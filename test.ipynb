{
 "cells": [
  {
   "cell_type": "code",
   "execution_count": 1,
   "metadata": {},
   "outputs": [
    {
     "name": "stdout",
     "output_type": "stream",
     "text": [
      "PyTorch Version:  1.10.0+cu102\n",
      "Torchvision Version:  0.11.1+cu102\n"
     ]
    }
   ],
   "source": [
    "import cv2\n",
    "import torch\n",
    "from tools.utils import *\n",
    "from config.config import *\n",
    "from model.dataset import MineCars\n",
    "from model.resnet import ResNet\n",
    "import time"
   ]
  },
  {
   "cell_type": "code",
   "execution_count": 2,
   "metadata": {},
   "outputs": [
    {
     "name": "stdout",
     "output_type": "stream",
     "text": [
      "/home/hcl/workspace/DataSet/MineCars/data2/202003160825100Fr.bmp\n",
      "/home/hcl/workspace/DataSet/MineCars/yolo/202003160825100Fr.txt\n"
     ]
    }
   ],
   "source": [
    "rootpath='/home/hcl/workspace/DataSet/MineCars/'\n",
    "labelfilename='202003160825100Fr.txt'\n",
    "totalLabelPath = os.path.join(rootpath, 'yolo', labelfilename)\n",
    "totalImagePath = os.path.join(rootpath, 'data2', labelfilename[:-3] + 'bmp')\n",
    "print(totalImagePath)\n",
    "print(totalLabelPath)"
   ]
  },
  {
   "cell_type": "code",
   "execution_count": 3,
   "metadata": {},
   "outputs": [],
   "source": [
    "\n",
    "image=cv2.imread(totalImagePath)\n",
    "imageSize=IMAGE_SIZE\n",
    "labelInfo = readYoloTxt(totalLabelPath)\n",
    "assert(labelInfo is not None)\n",
    "label = labelInfo[0]\n",
    "cx, cy, w, h = labelInfo[1:]\n",
    "x1, y1, x2, y2 = xywhTop1p2(cx, cy, w, h, imageSize)\n",
    "img=image[y1:y2,x1:x2]\n",
    "img=cv2.resize(img,INPUT_SHAPE)\n",
    "img=cv2.rotate(img, cv2.ROTATE_90_CLOCKWISE)\n"
   ]
  },
  {
   "cell_type": "code",
   "execution_count": 5,
   "metadata": {},
   "outputs": [
    {
     "name": "stdout",
     "output_type": "stream",
     "text": [
      "torch.Size([3, 224, 224])\n",
      "time pass 0.07224178314208984\n",
      "1\n"
     ]
    }
   ],
   "source": [
    "model = ResNet([3, 4, 23, 3]).to(device)\n",
    "model.eval()\n",
    "input=transform(img).to(device)\n",
    "print(input.shape)\n",
    "timebegin=time.time()\n",
    "output=model(input[None])\n",
    "predictLabel=torch.argmax(output).cpu().numpy()\n",
    "timeend=time.time()\n",
    "print(\"time pass {}\".format(timeend-timebegin))\n",
    "print(predictLabel)"
   ]
  },
  {
   "cell_type": "code",
   "execution_count": 6,
   "metadata": {},
   "outputs": [],
   "source": [
    "cv2.imshow('img',img)\n",
    "cv2.waitKey(0)"
   ]
  },
  {
   "cell_type": "code",
   "execution_count": null,
   "metadata": {},
   "outputs": [],
   "source": []
  }
 ],
 "metadata": {
  "interpreter": {
   "hash": "31f2aee4e71d21fbe5cf8b01ff0e069b9275f58929596ceb00d14d90e3e16cd6"
  },
  "kernelspec": {
   "display_name": "Python 3.6.9 64-bit",
   "language": "python",
   "name": "python3"
  },
  "language_info": {
   "codemirror_mode": {
    "name": "ipython",
    "version": 3
   },
   "file_extension": ".py",
   "mimetype": "text/x-python",
   "name": "python",
   "nbconvert_exporter": "python",
   "pygments_lexer": "ipython3",
   "version": "3.6.9"
  },
  "orig_nbformat": 4
 },
 "nbformat": 4,
 "nbformat_minor": 2
}
